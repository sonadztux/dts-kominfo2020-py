{
  "nbformat": 4,
  "nbformat_minor": 0,
  "metadata": {
    "colab": {
      "name": "LatihanSBA_oa_dts_kominfo.ipynb",
      "provenance": [],
      "collapsed_sections": []
    },
    "kernelspec": {
      "name": "python3",
      "display_name": "Python 3"
    }
  },
  "cells": [
    {
      "cell_type": "markdown",
      "metadata": {
        "id": "3ATJc_nuZqbb",
        "colab_type": "text"
      },
      "source": [
        "# Cara simpan\n",
        "> klik `file` -> `Download .py`\n",
        "## kemudian upload ke netacad di soal anda. "
      ]
    },
    {
      "cell_type": "code",
      "metadata": {
        "id": "0KtLA3IxXwIR",
        "colab_type": "code",
        "colab": {
          "base_uri": "https://localhost:8080/",
          "height": 102
        },
        "outputId": "c74bfdd7-889d-493a-da72-96f0f213abdc"
      },
      "source": [
        "'''\n",
        "namafile: latihanSBA.py\n",
        "Lembar kerja/script Latihan SBA\n",
        "'''\n",
        "# >>>>>>LEMBAR KERJA>>>>>>>>>\n",
        "# lembar ini hanya berisi pendefinisian fungsi dan class saja\n",
        "\n",
        "#email netacad, JANGAN SAMPAI LUPA >>>>>>><<<<<<<\n",
        "email = ''\n",
        "\n",
        "#soal 1\n",
        "class titik2d:\n",
        "  def __init__(self,x,y):\n",
        "    self.x = x\n",
        "    self.y = y\n",
        "\n",
        "  def ambiltitik(self):\n",
        "    return (self.x, self.y)\n",
        "\n",
        "  def tambahkan(self,point):\n",
        "    p = point.ambiltitik()\n",
        "    self.x += p[0]\n",
        "    self.y += p[1]\n",
        "    \n",
        "# soal 2\n",
        "def run():\n",
        "  x,y = [int(i) for i in input('Input x & y (one line separated by space): ').split()]\n",
        "  return titik2d(x,y)\n",
        "\n",
        "# >>>>>>AKHIR LEMBAR KERJA>>>>>>>>>\n",
        "\n",
        "\n",
        "\n",
        "if __name__ == '__main__':\n",
        "  # >>>>>TEST DI SINI>>>>>>\n",
        "  # gunakan BLOCK MAIN ini untuk mengetes\n",
        "\n",
        "  # untuk pengetesan kode hanya boleh di bagian sini\n",
        "  # silakan test sesuka hati di sini\n",
        "  t1 = run()\n",
        "  print('t1:',t1.ambiltitik())\n",
        "\n",
        "  t2 = run()\n",
        "  print('t2',t2.ambiltitik())\n",
        "\n",
        "  t1.tambahkan(t2)\n",
        "  print('t1 added by t2:', t1.ambiltitik())\n",
        "\n",
        "  # >>>>>AKHIR TEST DI SINI>>>>>>\n"
      ],
      "execution_count": null,
      "outputs": [
        {
          "output_type": "stream",
          "text": [
            "Input x & y (one line separated by space): 1 2\n",
            "t1: (1, 2)\n",
            "Input x & y (one line separated by space): 4 2\n",
            "t2 (4, 2)\n",
            "t1 added by t2: (5, 4)\n"
          ],
          "name": "stdout"
        }
      ]
    }
  ]
}